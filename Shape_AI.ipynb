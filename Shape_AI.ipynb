{
  "nbformat": 4,
  "nbformat_minor": 0,
  "metadata": {
    "colab": {
      "name": "Shape AI.ipynb",
      "provenance": []
    },
    "kernelspec": {
      "name": "python3",
      "display_name": "Python 3"
    },
    "language_info": {
      "name": "python"
    }
  },
  "cells": [
    {
      "cell_type": "markdown",
      "metadata": {
        "id": "pvpIrIE9ZKvl"
      },
      "source": [
        ""
      ]
    },
    {
      "cell_type": "markdown",
      "metadata": {
        "id": "L1-UDlBDCM4q"
      },
      "source": [
        "**We generally start our code by importing the liabilities which we will throughtout the program.**"
      ]
    },
    {
      "cell_type": "code",
      "metadata": {
        "id": "PV2nhTpTCpQJ"
      },
      "source": [
        "import numpy as np\n",
        "import pandas as pd\n",
        "import sklearn "
      ],
      "execution_count": null,
      "outputs": []
    },
    {
      "cell_type": "markdown",
      "metadata": {
        "id": "9uKgVSmtDUdT"
      },
      "source": [
        "**Now we will load the data that we will be using to train our model**"
      ]
    },
    {
      "cell_type": "markdown",
      "metadata": {
        "id": "ChKj_UJYDigp"
      },
      "source": [
        "Here we are using boston housing pricing dataset which is available in the\n",
        "sklearn liberary itself."
      ]
    },
    {
      "cell_type": "code",
      "metadata": {
        "id": "bjCXS-buE28G"
      },
      "source": [
        "from sklearn.datasets import load_boston\n",
        "df = load_boston()"
      ],
      "execution_count": null,
      "outputs": []
    },
    {
      "cell_type": "code",
      "metadata": {
        "id": "gQV1JyvNFToi"
      },
      "source": [
        "df.keys()    # Retruns all the keys of the dataset dictionary"
      ],
      "execution_count": null,
      "outputs": []
    },
    {
      "cell_type": "code",
      "metadata": {
        "id": "eGhVGtIXGLMN"
      },
      "source": [
        "print(df.DESCR)   #Info about the dataset"
      ],
      "execution_count": null,
      "outputs": []
    },
    {
      "cell_type": "markdown",
      "metadata": {
        "id": "5wD0cFM6aN1z"
      },
      "source": [
        ""
      ]
    },
    {
      "cell_type": "markdown",
      "metadata": {
        "id": "NKEJC3FwGvOY"
      },
      "source": [
        "**We convert our dataset into the pandas dataframe, so that it is easier to analyse the data**"
      ]
    },
    {
      "cell_type": "code",
      "metadata": {
        "id": "PXrmvEyQHKx-"
      },
      "source": [
        "boston = pd.DataFrame(df.data, columns=df.feature_names)\n",
        "boston.head()"
      ],
      "execution_count": null,
      "outputs": []
    },
    {
      "cell_type": "markdown",
      "metadata": {
        "id": "emc66W7raZtk"
      },
      "source": [
        ""
      ]
    },
    {
      "cell_type": "markdown",
      "metadata": {
        "id": "EJpTxpRtHwto"
      },
      "source": [
        "**Adding a new coloumn of target values to the dataframe**"
      ]
    },
    {
      "cell_type": "code",
      "metadata": {
        "id": "u7YpWhArH8EB"
      },
      "source": [
        "boston['MEDV'] = df.target\n",
        "boston.head()"
      ],
      "execution_count": null,
      "outputs": []
    },
    {
      "cell_type": "markdown",
      "metadata": {
        "id": "G41ecP5XanqU"
      },
      "source": [
        ""
      ]
    },
    {
      "cell_type": "markdown",
      "metadata": {
        "id": "m5RuxrYOIUVO"
      },
      "source": [
        "**Check if the dataset contains any null value or not**"
      ]
    },
    {
      "cell_type": "code",
      "metadata": {
        "id": "OEx1z-WOIcFu"
      },
      "source": [
        "boston.isnull()"
      ],
      "execution_count": null,
      "outputs": []
    },
    {
      "cell_type": "markdown",
      "metadata": {
        "id": "HMpCfdKAa7ak"
      },
      "source": [
        ""
      ]
    },
    {
      "cell_type": "markdown",
      "metadata": {
        "id": "0Srg4koDYtaD"
      },
      "source": [
        "**We never train the model on all the data that we have, we always make sure to atleast have a test dataset, which is different from the training dataset.**"
      ]
    },
    {
      "cell_type": "code",
      "metadata": {
        "id": "YB-Od5uSZXBe"
      },
      "source": [
        "from sklearn.model_selection import train_test_split\n",
        "\n",
        "X = boston.drop('MEDV', axis=1)\n",
        "Y = boston['MEDV']\n",
        "\n",
        "X_train, X_test, Y_train, Y_test = train_test_split(X, Y, test_size = 0.15, random_state=5)\n",
        "\n",
        "print(X_train.shape)\n",
        "print(X_test.shape)\n",
        "print(Y_train.shape)\n",
        "print(Y_test.shape)"
      ],
      "execution_count": null,
      "outputs": []
    },
    {
      "cell_type": "markdown",
      "metadata": {
        "id": "gEsyMkSbboLP"
      },
      "source": [
        ""
      ]
    },
    {
      "cell_type": "markdown",
      "metadata": {
        "id": "sr3wJ9XVba0i"
      },
      "source": [
        "**Now let's import the Linear Regression model from sklearn and train it on the training dataset**"
      ]
    },
    {
      "cell_type": "code",
      "metadata": {
        "id": "K6NvrTBSb-sR"
      },
      "source": [
        "from sklearn.linear_model import LinearRegression\n",
        "from sklearn.metrics import mean_squared_error"
      ],
      "execution_count": null,
      "outputs": []
    },
    {
      "cell_type": "code",
      "metadata": {
        "id": "riItgjUniQnJ"
      },
      "source": [
        "## FITTING MODEL ON THE TRAINING DATASET\n",
        "\n",
        "lin_model = LinearRegression()\n",
        "\n",
        "lin_model.fit(X_train, Y_train)"
      ],
      "execution_count": null,
      "outputs": []
    },
    {
      "cell_type": "code",
      "metadata": {
        "id": "Qn6Yxb8nivzO"
      },
      "source": [
        "y_train_predict = lin_model.predict(X_train)\n",
        "rmse = (np.sqrt(mean_squared_error(Y_train, y_train_predict)))\n",
        "\n",
        "print(\"The model performance  for training set\")\n",
        "print('RMSE  is {}'. format (rmse))\n",
        "print(\"\\n\")\n",
        "\n",
        "# on testing set \n",
        "y_test_predict = lin_model.predict(X_test)\n",
        "rmse = (np.sqrt(mean_squared_error(Y_test, y_test_predict)))\n",
        "\n",
        "print(\"The model performance for testing set\")\n",
        "print('RMSE is {}'.format(rmse))"
      ],
      "execution_count": null,
      "outputs": []
    }
  ]
}